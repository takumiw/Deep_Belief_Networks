{
 "cells": [
  {
   "cell_type": "code",
   "execution_count": 1,
   "metadata": {},
   "outputs": [
    {
     "name": "stdout",
     "output_type": "stream",
     "text": [
      "Package            Version\r\n",
      "------------------ -------\r\n",
      "appnope            0.1.0  \r\n",
      "attrs              19.1.0 \r\n",
      "backcall           0.1.0  \r\n",
      "bleach             3.1.0  \r\n",
      "decorator          4.4.0  \r\n",
      "defusedxml         0.6.0  \r\n",
      "entrypoints        0.3    \r\n",
      "ipykernel          5.1.2  \r\n",
      "ipython            7.7.0  \r\n",
      "ipython-genutils   0.2.0  \r\n",
      "ipywidgets         7.5.1  \r\n",
      "jedi               0.15.1 \r\n",
      "Jinja2             2.10.1 \r\n",
      "jsonschema         3.0.2  \r\n",
      "jupyter            1.0.0  \r\n",
      "jupyter-client     5.3.1  \r\n",
      "jupyter-console    6.0.0  \r\n",
      "jupyter-core       4.5.0  \r\n",
      "MarkupSafe         1.1.1  \r\n",
      "mistune            0.8.4  \r\n",
      "nbconvert          5.6.0  \r\n",
      "nbformat           4.4.0  \r\n",
      "notebook           6.0.1  \r\n",
      "numpy              1.17.1 \r\n",
      "pandocfilters      1.4.2  \r\n",
      "parso              0.5.1  \r\n",
      "pexpect            4.7.0  \r\n",
      "pickleshare        0.7.5  \r\n",
      "pip                19.2.3 \r\n",
      "prometheus-client  0.7.1  \r\n",
      "prompt-toolkit     2.0.9  \r\n",
      "ptyprocess         0.6.0  \r\n",
      "Pygments           2.4.2  \r\n",
      "pyrsistent         0.15.4 \r\n",
      "python-dateutil    2.8.0  \r\n",
      "pyzmq              18.1.0 \r\n",
      "qtconsole          4.5.4  \r\n",
      "Send2Trash         1.5.0  \r\n",
      "setuptools         41.2.0 \r\n",
      "six                1.12.0 \r\n",
      "terminado          0.8.2  \r\n",
      "testpath           0.4.2  \r\n",
      "tornado            6.0.3  \r\n",
      "traitlets          4.3.2  \r\n",
      "wcwidth            0.1.7  \r\n",
      "webencodings       0.5.1  \r\n",
      "wheel              0.33.6 \r\n",
      "widgetsnbextension 3.5.1  \r\n"
     ]
    }
   ],
   "source": [
    "! pip list"
   ]
  },
  {
   "cell_type": "code",
   "execution_count": null,
   "metadata": {},
   "outputs": [],
   "source": []
  }
 ],
 "metadata": {
  "kernelspec": {
   "display_name": "Python 3",
   "language": "python",
   "name": "python3"
  },
  "language_info": {
   "codemirror_mode": {
    "name": "ipython",
    "version": 3
   },
   "file_extension": ".py",
   "mimetype": "text/x-python",
   "name": "python",
   "nbconvert_exporter": "python",
   "pygments_lexer": "ipython3",
   "version": "3.7.3"
  }
 },
 "nbformat": 4,
 "nbformat_minor": 2
}
